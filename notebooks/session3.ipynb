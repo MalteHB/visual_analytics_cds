{
 "cells": [
  {
   "cell_type": "code",
   "execution_count": 4,
   "metadata": {},
   "outputs": [],
   "source": [
    "# We need to include the home directory in our path, so we can read in our own module.\n",
    "import os\n",
    "import sys\n",
    "sys.path.append(os.path.join(\"..\"))\n",
    "import cv2\n",
    "import numpy as np\n",
    "from utils.imutils import jimshow\n",
    "from utils.imutils import jimshow_channel\n",
    "import matplotlib.pyplot as plt"
   ]
  },
  {
   "cell_type": "markdown",
   "metadata": {},
   "source": [
    "## Load image"
   ]
  },
  {
   "cell_type": "code",
   "execution_count": 5,
   "metadata": {},
   "outputs": [],
   "source": [
    "image = cv2.imread(\"../data/img/terasse.jpeg\")"
   ]
  },
  {
   "cell_type": "markdown",
   "metadata": {},
   "source": [
    "## Plot colour histograms"
   ]
  },
  {
   "cell_type": "markdown",
   "metadata": {},
   "source": [
    "```cv2.calcHist([image], channels, mask, histSize, ranges[, hist[, accumulate]])```\n",
    "\n",
    "- images : it is the source image of type uint8 or float32 represented as “[img]”.\n",
    "- channels : it is the index of channel for which we calculate histogram. \n",
    "    - For grayscale image, its value is [0] and\n",
    "    - color image, you can pass [0], [1] or [2] to calculate histogram of blue, green or red channel respectively.\n",
    "- mask : mask image. To find histogram of full image, it is given as “None”.\n",
    "- histSize : this represents our BIN count. For full scale, we pass [256].\n",
    "- ranges : this is our RANGE. Normally, it is [0,256]."
   ]
  },
  {
   "cell_type": "markdown",
   "metadata": {},
   "source": [
    "## Plot individual color channel"
   ]
  },
  {
   "cell_type": "markdown",
   "metadata": {},
   "source": [
    "__Split into channels__"
   ]
  },
  {
   "cell_type": "code",
   "execution_count": null,
   "metadata": {},
   "outputs": [],
   "source": [
    "(B, G, R) = cv2.split(image)"
   ]
  },
  {
   "cell_type": "markdown",
   "metadata": {},
   "source": [
    "__Calculate histogram__\n",
    "\n",
    "Remember that both _[image]_ and _[channel]_ need to represented as lists!"
   ]
  },
  {
   "cell_type": "code",
   "execution_count": 6,
   "metadata": {},
   "outputs": [
    {
     "data": {
      "text/plain": [
       "[<matplotlib.lines.Line2D at 0x1336dddf0>]"
      ]
     },
     "execution_count": 6,
     "metadata": {},
     "output_type": "execute_result"
    },
    {
     "data": {
      "image/png": "[encoded data removed]",
      "text/plain": [
       "<Figure size 432x288 with 1 Axes>"
      ]
     },
     "metadata": {
      "needs_background": "light"
     },
     "output_type": "display_data"
    }
   ],
   "source": [
    "hist = cv2.calcHist([image], [0], None, [256], [0, 256])\n",
    "plt.plot(hist, color=\"Blue\")"
   ]
  },
  {
   "cell_type": "markdown",
   "metadata": {},
   "source": [
    "__OR__"
   ]
  },
  {
   "cell_type": "code",
   "execution_count": null,
   "metadata": {},
   "outputs": [],
   "source": [
    "hist = cv2.calcHist([B], [0], None, [256], [0, 256])\n",
    "plt.plot(hist, color=\"Blue\")"
   ]
  },
  {
   "cell_type": "markdown",
   "metadata": {},
   "source": [
    "## Plot multiple channels at the same time"
   ]
  },
  {
   "cell_type": "code",
   "execution_count": null,
   "metadata": {},
   "outputs": [],
   "source": [
    "# split channels\n",
    "channels = cv2.split(image)\n",
    "# names of colours\n",
    "colors = (\"b\", \"g\", \"r\")\n",
    "# create plot\n",
    "plt.figure()\n",
    "# add title\n",
    "plt.title(\"Multiple channels\")\n",
    "# Add xlabel\n",
    "plt.xlabel(\"Bins\")\n",
    "# Add ylabel\n",
    "plt.ylabel(\"# of Pixels\")\n",
    "\n",
    "# for every tuple of channel, colour\n",
    "for (channel, color) in zip(channels, colors):\n",
    "    # Create a histogram\n",
    "    hist = cv2.calcHist([channel], [0], None, [256], [0, 256])\n",
    "    # Plot histogram\n",
    "    plt.plot(hist, color=color)\n",
    "    # Set limits of x-axis\n",
    "    plt.xlim([0, 256])\n",
    "# Show plot\n",
    "plt.show()"
   ]
  },
  {
   "cell_type": "markdown",
   "metadata": {},
   "source": [
    "__Wrap up into function__"
   ]
  },
  {
   "cell_type": "code",
   "execution_count": null,
   "metadata": {},
   "outputs": [],
   "source": [
    "def plot_histogram(image, title, mask=None):\n",
    "    # split channels\n",
    "    channels = cv2.split(image)\n",
    "    # names of colours\n",
    "    colors = (\"b\", \"g\", \"r\")\n",
    "    # create plot\n",
    "    plt.figure()\n",
    "    # add title\n",
    "    plt.title(title)\n",
    "    # Add xlabel\n",
    "    plt.xlabel(\"Bins\")\n",
    "    # Add ylabel\n",
    "    plt.ylabel(\"# of Pixels\")\n",
    "\n",
    "    # for every tuple of channel, colour\n",
    "    for (channel, color) in zip(channels, colors):\n",
    "        # Create a histogram\n",
    "        hist = cv2.calcHist([channel], [0], mask, [256], [0, 256])\n",
    "        # Plot histogram\n",
    "        plt.plot(hist, color=color)\n",
    "        # Set limits of x-axis\n",
    "        plt.xlim([0, 256])\n",
    "    # Show plot\n",
    "    plt.show()"
   ]
  },
  {
   "cell_type": "markdown",
   "metadata": {},
   "source": [
    "## Test functions"
   ]
  },
  {
   "cell_type": "code",
   "execution_count": null,
   "metadata": {},
   "outputs": [],
   "source": [
    "plot_histogram(image, \"Colour Histogram\")"
   ]
  },
  {
   "cell_type": "markdown",
   "metadata": {},
   "source": [
    "## Iterate over folder"
   ]
  },
  {
   "cell_type": "code",
   "execution_count": null,
   "metadata": {},
   "outputs": [],
   "source": [
    "# Import pathlib\n",
    "from pathlib import Path\n",
    "\n",
    "# point to image dir\n",
    "image_dir = os.path.join(\"..\", \"data\", \"img\")\n",
    "\n",
    "# Iterate over files\n",
    "for image in Path(image_dir).glob(\"*.png\"):\n",
    "    #cv2 and pathlib don't play nicely\n",
    "    image_path = str(image)\n",
    "    # read image\n",
    "    image = cv2.imread(image_path)\n",
    "    # Get image name from image_path\n",
    "    _, image_name = os.path.split(image_path)\n",
    "    # output plot\n",
    "    plot_histogram(image, image_name)"
   ]
  },
  {
   "cell_type": "markdown",
   "metadata": {},
   "source": [
    "## Multidimensional historams"
   ]
  },
  {
   "cell_type": "markdown",
   "metadata": {},
   "source": [
    "Now that we are working with multi-dimensional his- tograms, we need to keep in mind the number of bins we are using. \n",
    "\n",
    "In previous examples, I’ve used 256 bins for demonstration purposes. However, if we used a 256 bins for each dimension in a 2D histogram, our resulting histogram would have 256 × 256 = 65,536 separate pixel counts. Not only is this wasteful of resources, it’s not practical. \n",
    "\n",
    "Most applications use somewhere between 8 and 64 bins when computing multi-dimensional histograms. So we use 32 instead of 256."
   ]
  },
  {
   "cell_type": "code",
   "execution_count": null,
   "metadata": {},
   "outputs": [],
   "source": [
    "# Create matplotlib figure\n",
    "fig = plt.figure(figsize=(20,10))\n",
    "# plot a 2D color histogram for green and blue\n",
    "ax = fig.add_subplot(131)\n",
    "hist = cv2.calcHist([image[1], image[0]], [0, 1], None, [32, 32], [0, 256, 0, 256])\n",
    "p = ax.imshow(hist)\n",
    "ax.set_title(\"2D Color Histogram for Green and Blue\")\n",
    "plt.colorbar(p)"
   ]
  },
  {
   "cell_type": "code",
   "execution_count": null,
   "metadata": {},
   "outputs": [],
   "source": [
    "# Create matplotlib figure\n",
    "fig = plt.figure(figsize=(20,10))\n",
    "\n",
    "# plot a 2D color histogram for green and blue\n",
    "ax = fig.add_subplot(131)\n",
    "hist = cv2.calcHist([image[1], image[0]], [0, 1], None, [32, 32], [0, 256, 0, 256])\n",
    "p = ax.imshow(hist)\n",
    "ax.set_title(\"2D Color Histogram for Green and Blue\")\n",
    "plt.colorbar(p)\n",
    "\n",
    "# plot a 2D color histogram for green and red\n",
    "ax = fig.add_subplot(132)\n",
    "hist = cv2.calcHist([image[1], image[2]], [0, 1], None, [32, 32], [0, 256, 0, 256])\n",
    "p = ax.imshow(hist)\n",
    "ax.set_title(\"2D Color Histogram for Green and Red\")\n",
    "plt.colorbar(p)\n",
    "\n",
    "# plot a 2D color histogram for blue and red\n",
    "ax = fig.add_subplot(133)\n",
    "hist = cv2.calcHist([image[0], image[2]], [0, 1], None, [32, 32], [0, 256, 0, 256])\n",
    "p = ax.imshow(hist)\n",
    "ax.set_title(\"2D Color Histogram for Blue and Red\")\n",
    "plt.colorbar(p)"
   ]
  },
  {
   "cell_type": "markdown",
   "metadata": {},
   "source": [
    "__Compare hist__"
   ]
  },
  {
   "cell_type": "code",
   "execution_count": null,
   "metadata": {},
   "outputs": [],
   "source": [
    "image1 = cv2.imread(\"../data/img/terasse.jpeg\")\n",
    "image2 = cv2.imread(\"../data/img/the_bedroom.jpg\")"
   ]
  },
  {
   "cell_type": "markdown",
   "metadata": {},
   "source": [
    "__minmax_normalization__\n",
    "\n",
    "(value−min)/(max-min)"
   ]
  },
  {
   "cell_type": "code",
   "execution_count": null,
   "metadata": {},
   "outputs": [],
   "source": [
    "hist1 = cv2.calcHist([image1], [0, 1, 2], None, [8, 8, 8], [0, 256, 0, 256, 0, 256])\n",
    "hist1 = cv2.normalize(hist1,hist1,0,255,cv2.NORM_MINMAX)"
   ]
  },
  {
   "cell_type": "code",
   "execution_count": null,
   "metadata": {},
   "outputs": [],
   "source": [
    "hist2 = cv2.calcHist([image2], [0, 1, 2], None, [8, 8, 8], [0, 256, 0, 256, 0, 256])\n",
    "hist2 = cv2.normalize(hist2,hist2,0,255,cv2.NORM_MINMAX)"
   ]
  },
  {
   "cell_type": "code",
   "execution_count": null,
   "metadata": {},
   "outputs": [],
   "source": [
    "round(cv2.compareHist(hist1, hist2, cv2.HISTCMP_CHISQR), 2)"
   ]
  },
  {
   "cell_type": "markdown",
   "metadata": {},
   "source": [
    "__Abandon hope all ye who enter!__\n",
    "\n",
    "The code below attemps to visualise a 3D histogram. Not great, but kinda works."
   ]
  },
  {
   "cell_type": "code",
   "execution_count": null,
   "metadata": {},
   "outputs": [],
   "source": [
    "fig = plt.figure(figsize=(20,10))\n",
    "ax = fig.add_subplot(111, projection=\"3d\")\n",
    "ratio = 5000 / np.max(hist1)\n",
    "bins = 8\n",
    "\n",
    "for (x, plane) in enumerate(hist1):\n",
    "    for (y, row) in enumerate(plane):\n",
    "        for (z, col) in enumerate(row):\n",
    "            if hist1[x][y][z] > 0.0:\n",
    "                siz = ratio * hist1[x][y][z]\n",
    "                rgb = (z / (bins - 1), y / (bins - 1), x / (bins - 1))\n",
    "                ax.scatter(x, y, z, s = siz, facecolors = rgb)\n",
    "plt.show()"
   ]
  },
  {
   "cell_type": "code",
   "execution_count": null,
   "metadata": {},
   "outputs": [],
   "source": []
  }
 ],
 "metadata": {
  "kernelspec": {
   "display_name": "Python 3",
   "language": "python",
   "name": "python3"
  },
  "language_info": {
   "codemirror_mode": {
    "name": "ipython",
    "version": 3
   },
   "file_extension": ".py",
   "mimetype": "text/x-python",
   "name": "python",
   "nbconvert_exporter": "python",
   "pygments_lexer": "ipython3",
   "version": "3.8.7"
  }
 },
 "nbformat": 4,
 "nbformat_minor": 4
}
